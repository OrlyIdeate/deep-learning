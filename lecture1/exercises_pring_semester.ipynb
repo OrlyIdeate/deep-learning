{
 "cells": [
  {
   "cell_type": "markdown",
   "metadata": {},
   "source": [
    "## 前期演習"
   ]
  },
  {
   "cell_type": "markdown",
   "metadata": {},
   "source": [
    "## 第1回"
   ]
  },
  {
   "cell_type": "markdown",
   "metadata": {},
   "source": [
    "### 問1"
   ]
  },
  {
   "cell_type": "markdown",
   "metadata": {},
   "source": [
    "このNotebookを編集して、文章や数式を書いてみてください。\n",
    "\n",
    "<br/>\n",
    "\n",
    "**参考例**：  \n",
    "Notebokファイル(**.ipynb)では、Pythonコードを実行するだけでなく、Markdown記法を使って文章や数式 ( $y = f(x)$ など) を記述することが出来ます。  \n",
    "記述方法は以下のwebsiteを参考にしたり、ネットで調べたりしてください。\n",
    "- Markdown記法：https://docs.github.com/en/get-started/writing-on-github/getting-started-with-writing-and-formatting-on-github/basic-writing-and-formatting-syntax\n",
    "- 数式：https://docs.github.com/en/get-started/writing-on-github/working-with-advanced-formatting/writing-mathematical-expressions"
   ]
  },
  {
   "cell_type": "markdown",
   "metadata": {},
   "source": [
    "- $y = f(x)$ <br><br>\n",
    "- $\\sqrt{3x-1}+(1+x)^2$"
   ]
  },
  {
   "cell_type": "markdown",
   "metadata": {},
   "source": [
    "# 2次方程式の解の公式の導出\n",
    "\n",
    "2次方程式  \n",
    "$$\n",
    "ax^2 + bx + c = 0\n",
    "$$  \n",
    "の解を求める。ただし、$a \\neq 0$ とする。\n",
    "\n",
    "## 両辺を $a$ で割り、$c/a$ を引く\n",
    "$$\n",
    "x^2 + \\frac{b}{a}x = - \\frac{c}{a}\n",
    "$$\n",
    "\n",
    "## 平方完成する\n",
    "$$\n",
    "\\begin{split}\n",
    "(x + \\frac{b}{2a})^2 &= -\\frac{c}{a} + \\frac{b^2}{4a^2}  \\\\\n",
    "&= \\frac{-4ac + b^2}{4a^2} = \\frac{b^2 - 4ac}{4a^2}\n",
    "\\end{split}\n",
    "$$\n",
    "\n",
    "## 両辺の平方根を取る\n",
    "$$\n",
    "x + \\frac{b}{2a} = \\pm \\frac{\\sqrt{b^2 - 4ac}}{2a}\n",
    "$$\n",
    "\n",
    "## 解を求める\n",
    "$$\n",
    "x = -\\frac{b}{2a} \\pm \\frac{\\sqrt{b^2 - 4ac}}{2a}\n",
    "$$\n",
    "\n",
    "**まとめ:**\n",
    "  - 両辺を $a$ で割り、$c/a$ を引く\n",
    "  - 平方完成する\n",
    "  - 両辺の平方根を取る\n",
    "  - 解を求める"
   ]
  },
  {
   "cell_type": "markdown",
   "metadata": {},
   "source": [
    "### 問2"
   ]
  },
  {
   "cell_type": "markdown",
   "metadata": {},
   "source": [
    "人工知能を使って、自分自身で実装してみたいことを述べなさい。既存のものでも、技術的にまだ不可能なものでも構いません。"
   ]
  },
  {
   "cell_type": "markdown",
   "metadata": {},
   "source": [
    "A. 画像処理（物体検知）"
   ]
  },
  {
   "cell_type": "markdown",
   "metadata": {},
   "source": [
    "### 問3"
   ]
  },
  {
   "cell_type": "markdown",
   "metadata": {},
   "source": [
    "友達同士でピザパーティーを行います。何枚のホールピザを注文すべきか計算する関数 `pizza_needed` を作りなさい。  \n",
    "ただし、以下の引数を備えること：\n",
    "- `people`（参加人数）\n",
    "- `slices_per_person`（1人あたり食べるスライス数。）\n",
    "- `slices_per_pizza`（ホールピザ1枚あたりのスライス数。$8$ をデフォルトの数にすること。）"
   ]
  },
  {
   "cell_type": "code",
   "execution_count": 10,
   "metadata": {},
   "outputs": [
    {
     "name": "stdout",
     "output_type": "stream",
     "text": [
      "2\n"
     ]
    }
   ],
   "source": [
    "people = 5\n",
    "slices_per_person = 3\n",
    "slices_per_pizza = 8\n",
    "\n",
    "def pizza_needed(people, slices_per_person, slices_per_pizza=8):\n",
    "    total_slices_needed = people * slices_per_person\n",
    "    pizzas_needed = total_slices_needed / slices_per_pizza\n",
    "    if pizzas_needed % 1 != 0:\n",
    "        pizzas_needed = int(pizzas_needed) + 1\n",
    "    print(pizzas_needed)\n",
    "\n",
    "pizza_needed(people, slices_per_person, slices_per_pizza)"
   ]
  },
  {
   "cell_type": "markdown",
   "metadata": {},
   "source": [
    "### 問4"
   ]
  },
  {
   "cell_type": "markdown",
   "metadata": {},
   "source": [
    "言葉をオウム返しするロボットを作る。次のようなクラスを作成しなさい：\n",
    "- `__init__(self, name)`：ロボット自身の名前を設定。\n",
    "- `repeat(self, message)`：ロボット自身の名前を言ったあとに、ロボットに投げかけた言葉 `message` を返す。\n",
    "- `speak_count()` で、これまでに何回発言したか（`repeat()`が呼ばれた回数）を返す。"
   ]
  },
  {
   "cell_type": "code",
   "execution_count": 11,
   "metadata": {},
   "outputs": [
    {
     "name": "stdout",
     "output_type": "stream",
     "text": [
      "Hello, world!\n",
      "How are you?\n",
      "2\n"
     ]
    }
   ],
   "source": [
    "class Parrot:\n",
    "    \n",
    "    def __init__(self, name):\n",
    "        self.name = name\n",
    "        self.speak_counter = 0\n",
    "    \n",
    "    def repeat(self, message):\n",
    "        print(message)\n",
    "        self.speak_counter += 1\n",
    "        \n",
    "    def speak_count(self):\n",
    "        print(self.speak_counter)\n",
    "        \n",
    "speedy = Parrot(\"Speedy\")\n",
    "speedy.repeat(\"Hello, world!\")\n",
    "speedy.repeat(\"How are you?\")\n",
    "speedy.speak_count()"
   ]
  }
 ],
 "metadata": {
  "kernelspec": {
   "display_name": ".venv",
   "language": "python",
   "name": "python3"
  },
  "language_info": {
   "codemirror_mode": {
    "name": "ipython",
    "version": 3
   },
   "file_extension": ".py",
   "mimetype": "text/x-python",
   "name": "python",
   "nbconvert_exporter": "python",
   "pygments_lexer": "ipython3",
   "version": "3.13.2"
  }
 },
 "nbformat": 4,
 "nbformat_minor": 2
}
