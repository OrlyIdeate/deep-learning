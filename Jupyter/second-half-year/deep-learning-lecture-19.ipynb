{
 "cells": [
  {
   "cell_type": "code",
   "execution_count": 2,
   "metadata": {},
   "outputs": [],
   "source": [
    "import torch\n",
    "from transformers import AutoTokenizer, AutoModel"
   ]
  },
  {
   "cell_type": "code",
   "execution_count": 3,
   "metadata": {},
   "outputs": [
    {
     "name": "stderr",
     "output_type": "stream",
     "text": [
      "f:\\deep-learning\\.venv\\Lib\\site-packages\\huggingface_hub\\file_download.py:139: UserWarning: `huggingface_hub` cache-system uses symlinks by default to efficiently store duplicated files but your machine does not support them in C:\\Users\\ITWhiteHacker\\.cache\\huggingface\\hub\\models--huawei-noah--TinyBERT_General_4L_312D. Caching files will still work but in a degraded version that might require more space on your disk. This warning can be disabled by setting the `HF_HUB_DISABLE_SYMLINKS_WARNING` environment variable. For more details, see https://huggingface.co/docs/huggingface_hub/how-to-cache#limitations.\n",
      "To support symlinks on Windows, you either need to activate Developer Mode or to run Python as an administrator. In order to activate developer mode, see this article: https://docs.microsoft.com/en-us/windows/apps/get-started/enable-your-device-for-development\n",
      "  warnings.warn(message)\n"
     ]
    }
   ],
   "source": [
    "model_name = \"huawei-noah/TinyBERT_General_4L_312D\"\n",
    "\n",
    "tokenizer = AutoTokenizer.from_pretrained(model_name)\n",
    "model = AutoModel.from_pretrained(model_name)"
   ]
  },
  {
   "cell_type": "code",
   "execution_count": 4,
   "metadata": {},
   "outputs": [],
   "source": [
    "token = tokenizer(\"apple is fruit\", return_tensors=\"pt\")\n",
    "res = model(**token)"
   ]
  },
  {
   "cell_type": "code",
   "execution_count": 5,
   "metadata": {},
   "outputs": [
    {
     "data": {
      "text/plain": [
       "torch.Size([1, 5, 312])"
      ]
     },
     "execution_count": 5,
     "metadata": {},
     "output_type": "execute_result"
    }
   ],
   "source": [
    "res.last_hidden_state.shape"
   ]
  },
  {
   "cell_type": "code",
   "execution_count": 9,
   "metadata": {},
   "outputs": [
    {
     "data": {
      "text/plain": [
       "torch.Size([1, 312])"
      ]
     },
     "execution_count": 9,
     "metadata": {},
     "output_type": "execute_result"
    }
   ],
   "source": [
    "res.last_hidden_state.mean(dim=1).shape"
   ]
  },
  {
   "cell_type": "code",
   "execution_count": 15,
   "metadata": {},
   "outputs": [
    {
     "name": "stdout",
     "output_type": "stream",
     "text": [
      "CPUを使用します\n"
     ]
    }
   ],
   "source": [
    "import torch\n",
    "\n",
    "if torch.cuda.is_available():\n",
    "    device = torch.device(\"cuda\")\n",
    "    print(\"GPUを使用します\")\n",
    "else:\n",
    "    device = torch.device(\"cpu\")\n",
    "    print(\"CPUを使用します\")"
   ]
  },
  {
   "cell_type": "code",
   "execution_count": 18,
   "metadata": {},
   "outputs": [
    {
     "name": "stderr",
     "output_type": "stream",
     "text": [
      "Asking to truncate to max_length but no maximum length is provided and the model has no predefined maximum length. Default to no truncation.\n"
     ]
    }
   ],
   "source": [
    "import torch\n",
    "from transformers import AutoTokenizer, AutoModel\n",
    "from sklearn.metrics.pairwise import cosine_similarity\n",
    "\n",
    "device = torch.device(\"cuda\" if torch.cuda.is_available() else \"cpu\")\n",
    "\n",
    "#\n",
    "model_name = \"huawei-noah/TinyBERT_General_4L_312D\"\n",
    "tokenizer = AutoTokenizer.from_pretrained(model_name)\n",
    "model = AutoModel.from_pretrained(model_name).to(device)\n",
    "\n",
    "\n",
    "def get_embedding(words):\n",
    "    batch_inputs = tokenizer(\n",
    "        words, return_tensors=\"pt\", padding=True, truncation=True\n",
    "    ).to(device)\n",
    "    with torch.no_grad():\n",
    "        outputs = model(**batch_inputs)\n",
    "    embedding = outputs.last_hidden_state.mean(dim=1)\n",
    "    return embedding\n",
    "\n",
    "\n",
    "king = get_embedding(\"king\")\n",
    "man = get_embedding(\"man\")\n",
    "woman = get_embedding(\"woman\")\n",
    "result_vector = king - man + woman\n",
    "\n",
    "all_tokens = list(tokenizer.get_vocab().keys())\n",
    "batch_size = 64\n",
    "\n",
    "\n",
    "for i in range(0, len(all_tokens), batch_size):\n",
    "    batch_tokens = all_tokens[i : i + batch_size]\n",
    "    batch_embeddings = get_embedding(batch_tokens)\n",
    "\n",
    "    similarities = cosine_similarity(\n",
    "        result_vector.detach().cpu().numpy(), batch_embeddings.detach().cpu().numpy()\n",
    "    )[0]"
   ]
  },
  {
   "cell_type": "code",
   "execution_count": 16,
   "metadata": {},
   "outputs": [],
   "source": [
    "token = tokenizer(\n",
    "    \"king\", return_tensors=\"pt\", padding=True, truncation=True\n",
    ").to(device)"
   ]
  },
  {
   "cell_type": "code",
   "execution_count": 17,
   "metadata": {},
   "outputs": [
    {
     "data": {
      "text/plain": [
       "array([0.55840147, 0.6652018 , 0.6143114 , 0.63101745, 0.6371211 ,\n",
       "       0.6728245 , 0.66778827, 0.52089566, 0.63109976, 0.66336316,\n",
       "       0.63431394, 0.7135271 , 0.6066072 , 0.6550435 , 0.6415851 ,\n",
       "       0.65195054, 0.6812757 , 0.642771  , 0.61123794, 0.6321051 ,\n",
       "       0.6149322 , 0.6675673 , 0.6672232 , 0.5330621 , 0.5436189 ,\n",
       "       0.6749656 , 0.6916433 , 0.6354941 , 0.56208   , 0.6408452 ,\n",
       "       0.71697   , 0.5943855 , 0.5774625 , 0.62896574, 0.6116928 ,\n",
       "       0.5814994 , 0.6971441 , 0.6188058 , 0.6501277 , 0.6107091 ,\n",
       "       0.6467501 , 0.65286314, 0.662601  , 0.64830476, 0.67283964,\n",
       "       0.62762755, 0.59436667, 0.6499065 , 0.5352727 , 0.65918213,\n",
       "       0.6722705 , 0.5560658 , 0.59670675, 0.6494635 , 0.58055043,\n",
       "       0.6238123 , 0.6203469 , 0.5345448 ], dtype=float32)"
      ]
     },
     "execution_count": 17,
     "metadata": {},
     "output_type": "execute_result"
    }
   ],
   "source": [
    "similarities"
   ]
  },
  {
   "cell_type": "code",
   "execution_count": null,
   "metadata": {},
   "outputs": [],
   "source": []
  }
 ],
 "metadata": {
  "kernelspec": {
   "display_name": ".venv",
   "language": "python",
   "name": "python3"
  },
  "language_info": {
   "codemirror_mode": {
    "name": "ipython",
    "version": 3
   },
   "file_extension": ".py",
   "mimetype": "text/x-python",
   "name": "python",
   "nbconvert_exporter": "python",
   "pygments_lexer": "ipython3",
   "version": "3.12.2"
  }
 },
 "nbformat": 4,
 "nbformat_minor": 2
}
