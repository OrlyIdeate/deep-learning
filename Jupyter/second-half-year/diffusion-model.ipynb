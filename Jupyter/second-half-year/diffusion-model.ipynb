{
 "cells": [
  {
   "cell_type": "markdown",
   "metadata": {},
   "source": [
    "# Diffusion Model"
   ]
  },
  {
   "cell_type": "markdown",
   "metadata": {},
   "source": [
    "- Diffusion Model が初めて提案された論文：https://proceedings.mlr.press/v37/sohl-dickstein15.html"
   ]
  },
  {
   "cell_type": "markdown",
   "metadata": {},
   "source": [
    "## 訓練済みの Diffusion Model の例"
   ]
  },
  {
   "cell_type": "markdown",
   "metadata": {},
   "source": [
    "Denoising Diffusion Probabilistic Model\n",
    "- 訓練済みモデル：https://huggingface.co/google/ddpm-cifar10-32\n",
    "- Unconditional image generation：正規分布から画像を生成"
   ]
  },
  {
   "cell_type": "code",
   "execution_count": null,
   "metadata": {},
   "outputs": [],
   "source": [
    "from diffusers import DDPMPipeline, DDIMPipeline, PNDMPipeline\n",
    "\n",
    "model_id = \"google/ddpm-cifar10-32\"\n",
    "ddpm = DDPMPipeline.from_pretrained(model_id)\n",
    "\n",
    "image = ddpm().images[0]\n",
    "\n",
    "image"
   ]
  }
 ],
 "metadata": {
  "kernelspec": {
   "display_name": ".venv",
   "language": "python",
   "name": "python3"
  },
  "language_info": {
   "name": "python",
   "version": "3.12.2"
  }
 },
 "nbformat": 4,
 "nbformat_minor": 2
}
